{
 "cells": [
  {
   "cell_type": "code",
   "execution_count": 4,
   "id": "edc84a98-eab7-4a88-acec-a89d45e65d70",
   "metadata": {},
   "outputs": [],
   "source": [
    "import math"
   ]
  },
  {
   "cell_type": "code",
   "execution_count": 6,
   "id": "51c1d5ff-6f0c-4479-b925-03d759f46576",
   "metadata": {},
   "outputs": [],
   "source": [
    "# Constants\n",
    "a = 6378137.0  # Semi-major axis of the Earth in meters\n",
    "f = 1 / 298.257223563  # Flattening of the Earth\n",
    "e_squared = 2 * f - f**2  # Eccentricity squared"
   ]
  },
  {
   "cell_type": "code",
   "execution_count": 12,
   "id": "6f4de430-4511-4d44-99eb-3df8cacc6cf2",
   "metadata": {},
   "outputs": [],
   "source": [
    "def meridian_radius_of_curvature(phi):\n",
    "\n",
    "    numerator = a * (1 - e_squared)\n",
    "    denominator = (1 - e_squared * math.sin(phi)**2)**(3/2)\n",
    "    return numerator / denominator"
   ]
  },
  {
   "cell_type": "code",
   "execution_count": 14,
   "id": "e44c9989-081d-4398-b4b2-90b178503592",
   "metadata": {},
   "outputs": [],
   "source": [
    "def prime_vertical_radius_of_curvature(phi):\n",
    "\n",
    "    denominator = math.sqrt(1 - e_squared * math.sin(phi)**2)\n",
    "    return a / denominator"
   ]
  },
  {
   "cell_type": "code",
   "execution_count": 16,
   "id": "ba38fbc6-afc9-4d82-895a-1865169a9c81",
   "metadata": {},
   "outputs": [],
   "source": [
    "def gaussian_mean_radius_of_curvature(phi):\n",
    "\n",
    "    M = meridian_radius_of_curvature(phi)\n",
    "    N = prime_vertical_radius_of_curvature(phi)\n",
    "    return math.sqrt(M * N)"
   ]
  },
  {
   "cell_type": "code",
   "execution_count": 18,
   "id": "6b5dc589-2cb5-455c-a38f-4847c91e9002",
   "metadata": {},
   "outputs": [],
   "source": [
    "def radius_of_curvature_of_parallel_of_latitude(phi):\n",
    "\n",
    "    N = prime_vertical_radius_of_curvature(phi)\n",
    "    return N * math.cos(phi)"
   ]
  },
  {
   "cell_type": "code",
   "execution_count": 20,
   "id": "e4287a7c-3c8d-47d9-9419-7c05eb6515da",
   "metadata": {},
   "outputs": [],
   "source": [
    "def radius_of_curvature_in_any_azimuth(phi, alpha):\n",
    "\n",
    "    M = meridian_radius_of_curvature(phi)\n",
    "    N = prime_vertical_radius_of_curvature(phi)\n",
    "    numerator = M * N\n",
    "    denominator = N * math.cos(alpha)**2 + M * math.sin(alpha)**2\n",
    "    return numerator / denominator"
   ]
  },
  {
   "cell_type": "code",
   "execution_count": 10,
   "id": "7edd4f25-e622-48cd-8a0b-f620420436f1",
   "metadata": {},
   "outputs": [
    {
     "name": "stdin",
     "output_type": "stream",
     "text": [
      "Enter latitude in degrees:  1\n",
      "Enter azimuth in degrees:  1\n"
     ]
    },
    {
     "name": "stdout",
     "output_type": "stream",
     "text": [
      "Meridian Radius of Curvature (M): 6335458.70 meters\n",
      "Prime Vertical Radius of Curvature (N): 6378143.50 meters\n",
      "Gaussian Mean Radius of Curvature (R_g): 6356765.28 meters\n",
      "Radius of Curvature of a Parallel of Latitude (R_p): 6377172.08 meters\n",
      "Radius of Curvature in Any Azimuth (R_alpha): 6335471.62 meters\n"
     ]
    }
   ],
   "source": [
    "if __name__ == \"__main__\":\n",
    "    # Input parameters\n",
    "    latitude_deg = float(input(\"Enter latitude in degrees: \"))\n",
    "    azimuth_deg = float(input(\"Enter azimuth in degrees: \"))\n",
    "    \n",
    "    # Convert degrees to radians\n",
    "    latitude_rad = math.radians(latitude_deg)\n",
    "    azimuth_rad = math.radians(azimuth_deg)\n",
    "    \n",
    "    # Calculate radii of curvature\n",
    "    M = meridian_radius_of_curvature(latitude_rad)\n",
    "    N = prime_vertical_radius_of_curvature(latitude_rad)\n",
    "    R_g = gaussian_mean_radius_of_curvature(latitude_rad)\n",
    "    R_p = radius_of_curvature_of_parallel_of_latitude(latitude_rad)\n",
    "    R_alpha = radius_of_curvature_in_any_azimuth(latitude_rad, azimuth_rad)\n",
    "    \n",
    "    print(f\"Meridian Radius of Curvature (M): {M:.2f} meters\")\n",
    "    print(f\"Prime Vertical Radius of Curvature (N): {N:.2f} meters\")\n",
    "    print(f\"Gaussian Mean Radius of Curvature (R_g): {R_g:.2f} meters\")\n",
    "    print(f\"Radius of Curvature of a Parallel of Latitude (R_p): {R_p:.2f} meters\")\n",
    "    print(f\"Radius of Curvature in Any Azimuth (R_alpha): {R_alpha:.2f} meters\")"
   ]
  }
 ],
 "metadata": {
  "kernelspec": {
   "display_name": "Python [conda env:base] *",
   "language": "python",
   "name": "conda-base-py"
  },
  "language_info": {
   "codemirror_mode": {
    "name": "ipython",
    "version": 3
   },
   "file_extension": ".py",
   "mimetype": "text/x-python",
   "name": "python",
   "nbconvert_exporter": "python",
   "pygments_lexer": "ipython3",
   "version": "3.12.7"
  }
 },
 "nbformat": 4,
 "nbformat_minor": 5
}
